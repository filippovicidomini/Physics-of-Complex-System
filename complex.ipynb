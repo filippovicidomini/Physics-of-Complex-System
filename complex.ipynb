{
 "cells": [
  {
   "cell_type": "code",
   "execution_count": 40,
   "metadata": {
    "collapsed": true
   },
   "outputs": [],
   "source": [
    "import numpy as np\n",
    "import matplotlib.pyplot as plt\n",
    "import random\n",
    "import math\n",
    "import time"
   ]
  },
  {
   "cell_type": "code",
   "execution_count": 41,
   "outputs": [
    {
     "name": "stdout",
     "output_type": "stream",
     "text": [
      "[ 1  1 -1  1 -1  1  1 -1 -1 -1 -1 -1  1 -1  1 -1  1  1 -1 -1  1  1  1  1\n",
      "  1  1 -1 -1  1 -1 -1 -1  1  1  1 -1  1 -1 -1  1  1  1  1 -1  1  1 -1 -1\n",
      "  1 -1  1  1  1 -1  1  1  1 -1  1 -1 -1 -1  1  1  1  1 -1  1  1  1  1 -1\n",
      "  1  1 -1 -1  1 -1  1  1 -1  1 -1 -1 -1  1 -1 -1  1 -1 -1 -1 -1  1 -1  1\n",
      "  1  1 -1 -1]\n"
     ]
    }
   ],
   "source": [
    "# define the lattice\n",
    "N = 100  # number of spins\n",
    "# random initial configuration\n",
    "spins = np.random.randint(0, 2, N) * 2 - 1\n",
    "print(spins)"
   ],
   "metadata": {
    "collapsed": false
   }
  },
  {
   "cell_type": "code",
   "execution_count": 42,
   "outputs": [
    {
     "name": "stdout",
     "output_type": "stream",
     "text": [
      "up: 54.0%, down: 46.0%\n"
     ]
    }
   ],
   "source": [
    "# count numeber of up and down spins\n",
    "# only for checking the distribution\n",
    "up = np.count_nonzero(spins == 1)\n",
    "down = np.count_nonzero(spins == -1)\n",
    "print(f'up: {up/N*100}%, down: {down/N*100}%')"
   ],
   "metadata": {
    "collapsed": false
   }
  },
  {
   "cell_type": "code",
   "execution_count": 43,
   "outputs": [
    {
     "name": "stdout",
     "output_type": "stream",
     "text": [
      "Hamiltonian: 0.04\n"
     ]
    }
   ],
   "source": [
    "# define the hamiltonian\n",
    "J = 0.01  # interaction constant\n",
    "# using boundary condition PBC\n",
    "H = -J * np.sum(spins * np.roll(spins, 1))\n",
    "print(f'Hamiltonian: {H}')"
   ],
   "metadata": {
    "collapsed": false
   }
  },
  {
   "cell_type": "code",
   "execution_count": 46,
   "outputs": [],
   "source": [
    "### now do for every configuration ###"
   ],
   "metadata": {
    "collapsed": false
   }
  },
  {
   "cell_type": "code",
   "execution_count": null,
   "outputs": [],
   "source": [
    "# define the lattice\n"
   ],
   "metadata": {
    "collapsed": false
   }
  }
 ],
 "metadata": {
  "kernelspec": {
   "display_name": "Python 3",
   "language": "python",
   "name": "python3"
  },
  "language_info": {
   "codemirror_mode": {
    "name": "ipython",
    "version": 2
   },
   "file_extension": ".py",
   "mimetype": "text/x-python",
   "name": "python",
   "nbconvert_exporter": "python",
   "pygments_lexer": "ipython2",
   "version": "2.7.6"
  }
 },
 "nbformat": 4,
 "nbformat_minor": 0
}
