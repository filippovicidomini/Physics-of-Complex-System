{
 "cells": [
  {
   "cell_type": "markdown",
   "source": [
    "# introduction to SOC\n",
    "how scale invariant struction, like mass, real number that is fractal dimention of the object,\n",
    "it a one way of serching fractal dimention.\n",
    "from phycal phenomena to geometry, like perpolation, there is a random walk, diffusion problems in physics,\n",
    "this has to do with space and time. not true that every thing heppen at the same time."
   ],
   "metadata": {
    "collapsed": false
   }
  },
  {
   "cell_type": "markdown",
   "source": [
    "there are finantial, social technological.\n",
    "a lot have to deals with orders, example of a pizza, firt in firt out, is the simplest.\n",
    "we have orders, and disorder and the pizza wil go good or bad\n",
    "\n",
    "in a bank fifo is not what we want. we want to sell at a certain price, and someone else want to buy at a certain price.\n",
    "and need we need an officier to do some finantial dealer. is how a market guy work. and the market is a fractal.\n",
    "\n",
    "more client he can match, the heppier the client are, and the more money he make.\n",
    "find the best possible match, is a fractal problem."
   ],
   "metadata": {
    "collapsed": false
   }
  },
  {
   "cell_type": "markdown",
   "source": [
    "order do not cover always, there is a precize moment in time, where the order is valid.\n",
    "it's dynamics and it's not continuous.\n",
    "\n",
    "social is the same, we have a lot of order, and we have to match them.\n",
    "in the past we can chack how many letter they sent per day. even now the email is avalance effect\n",
    "\n",
    "Avalace effect can broke the system. in the bank we see this process. like the price of the house, it can crash.\n",
    "there is the Ipoteca. can appen a bankrupcy, and the bank can go down, and no longer able to pay back.\n",
    "also heartquake, and the avalance effect can be a fractal. it change the equilibrium."
   ],
   "metadata": {
    "collapsed": false
   }
  },
  {
   "cell_type": "markdown",
   "source": [
    "# SOC (self organize criticality)\n",
    "a model to describe this are \"called self organize critical\". are not thermodynamical system.\n",
    "those system are open dynamical system. the amount of matter can change in time. and the equilibrium is critical and controlled by power law.\n",
    "they self organize to a such state, it's important. life is self organize.\n",
    "why a system is in such condiction to make self organize?\n",
    "image a table, you can accumulate little ball, sand. at a certain point it will be filled. the system is open, you can add and lose, and is also dissipating energy\n",
    "there is 2 way to change matter, you, and the system it-serf, we expect statystical equilibrium.\n",
    "another way is losing matter, and it's an avalance effect. you put 1 you can lose 1000000.\n",
    "we need to tune control the parameter to a precize value\n",
    "\n",
    "the system can be empty or full, and the system is critical, and the system is self organize.\n",
    "it's possible to compute the size of the avalance.\n",
    "\n",
    "the event in an avalanche process are interconected.\n",
    "\n",
    "### heartquake and other phenomena\n",
    "the heartquake is a SOC, and the avalance is the heartquake.\n",
    "also fire forest\n",
    "\n",
    "\n",
    "### finantial market\n",
    "can total collaps of the market, a big crash. it's important to understand the model.\n",
    "\n",
    "### charles darwin\n",
    "also charles darwin observe this phenomena\n",
    "mutation are random, one of individual might be better than the other, and the other will die.\n",
    "every space tend to destroy the envirormant to dominat it.\n",
    "bacteria made a mutation, made chianobacteria and they start producing oxigen, and they kill all the other bacteria and the envirorment.\n",
    "it's not an excuse to our behavior, we are not bacteria, we can control our-self.\n",
    "\n",
    "but bacterya show us that over an equilibrim the effect can be catastrophic.\n",
    "\n"
   ],
   "metadata": {
    "collapsed": false
   }
  },
  {
   "cell_type": "markdown",
   "source": [
    "# things can go bad :)  :("
   ],
   "metadata": {
    "collapsed": false
   }
  },
  {
   "cell_type": "markdown",
   "source": [
    "we will simulate a rice pack\n",
    "i fyou trhow a race of rice,\n",
    "rice pie is a famous paper published, and it's a SOC model.\n"
   ],
   "metadata": {
    "collapsed": false
   }
  },
  {
   "cell_type": "markdown",
   "source": [
    "the most general case is poisson procces, or binomial process\n",
    "it's use because it's easy to compute. and to understand.\n",
    "p is success, and 1-p is failure.\n",
    "\n"
   ],
   "metadata": {
    "collapsed": false
   }
  },
  {
   "cell_type": "markdown",
   "source": [
    "# SOC model\n",
    "we have a system, and we have a parameter, and we have a critical value, and we have a avalance effect.\n",
    "the concept is by a paper in 1987 by bak, tang and wiesenfeld who use a sand pile model.\n",
    "the sand pile model is a 2d model, and we have a pile of sand, and we add sand, and we have a critical value, and we have a avalance effect.\n",
    "\n",
    "self organize critically is a concempt. it can be found in many system. in particular in 2 system:\n",
    "- sand pile model\n",
    "- forest fire model\n",
    "- rice pile model\n",
    "- earthquake model\n",
    "- finantial market model\n",
    "- evolution model\n",
    "- brain model\n",
    "- traffic model\n",
    "- epidemic model\n",
    "\n",
    "image a 2d lattice of sand and every cell is a cilinder with other sand in it and we add sand, and we have a critical value, and we have a avalance effect.\n",
    "\n",
    "k=0,1,2,3 is stable state, and k=4 is unstable state, and k=5 is the avalance effect.\n",
    "you throw sand randomly and you have a critical value, and you have a avalance effect.\n",
    "there is avalance to up down and left right, and the avalance is a fractal.the avalanche can make another avalanche to the nearest neighbor.\n",
    "if sand exceed the lattice the sand is lost forever and the system is open.\n",
    "i,j is the lattice side.\n",
    "start empty and add sand, and the sand is added randomly. or start with an avalanche and see what happen.\n",
    "\n",
    "there is wave phenomena.\n",
    "big avalanche are possible, like crash market, or big earthquake.\n"
   ],
   "metadata": {
    "collapsed": false
   }
  },
  {
   "cell_type": "markdown",
   "source": [
    "# simulation of send pile model"
   ],
   "metadata": {
    "collapsed": false
   }
  },
  {
   "cell_type": "code",
   "execution_count": 1,
   "outputs": [],
   "source": [
    "import numpy as np\n",
    "import matplotlib.pyplot as plt\n",
    "import matplotlib.animation as animation\n",
    "from matplotlib import colors\n",
    "import random\n",
    "import time"
   ],
   "metadata": {
    "collapsed": false
   }
  },
  {
   "cell_type": "code",
   "execution_count": 28,
   "outputs": [],
   "source": [
    "# define the size of the lattice\n",
    "N = 100\n",
    "a = np.array()\n",
    "# define the number of iteration\n",
    "n_iter = 10000\n",
    "alfa = 0.5\n",
    "beta = 1"
   ],
   "metadata": {
    "collapsed": false
   }
  },
  {
   "cell_type": "code",
   "execution_count": 33,
   "outputs": [
    {
     "name": "stdout",
     "output_type": "stream",
     "text": [
      "[[2 1 2 ... 4 4 2]\n",
      " [3 0 2 ... 3 4 4]\n",
      " [0 0 1 ... 4 3 3]\n",
      " ...\n",
      " [0 3 0 ... 3 0 4]\n",
      " [1 1 4 ... 0 1 2]\n",
      " [4 2 2 ... 4 3 1]]\n"
     ]
    }
   ],
   "source": [
    "# DEFINE LATTICE\n",
    "fitness_landscape = np.random.randint(0, 5, size=(N, N))\n",
    "print(fitness_landscape)"
   ],
   "metadata": {
    "collapsed": false
   }
  },
  {
   "cell_type": "code",
   "execution_count": 34,
   "outputs": [],
   "source": [
    "# add sand\n",
    "def add_sand(lattice, i, j):\n",
    "    lattice[i, j] += 1\n",
    "    return lattice"
   ],
   "metadata": {
    "collapsed": false
   }
  },
  {
   "cell_type": "code",
   "execution_count": null,
   "outputs": [],
   "source": [
    "# define the avalanche\n",
    "def"
   ],
   "metadata": {
    "collapsed": false
   }
  }
 ],
 "metadata": {
  "kernelspec": {
   "display_name": "Python 3",
   "language": "python",
   "name": "python3"
  },
  "language_info": {
   "codemirror_mode": {
    "name": "ipython",
    "version": 2
   },
   "file_extension": ".py",
   "mimetype": "text/x-python",
   "name": "python",
   "nbconvert_exporter": "python",
   "pygments_lexer": "ipython2",
   "version": "2.7.6"
  }
 },
 "nbformat": 4,
 "nbformat_minor": 0
}
